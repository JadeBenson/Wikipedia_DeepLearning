{
  "nbformat": 4,
  "nbformat_minor": 0,
  "metadata": {
    "colab": {
      "name": "Image Cleaning.ipynb",
      "provenance": []
    },
    "kernelspec": {
      "name": "python3",
      "display_name": "Python 3"
    },
    "language_info": {
      "name": "python"
    }
  },
  "cells": [
    {
      "cell_type": "markdown",
      "source": [
        "# Image Cleaning \n",
        "\n",
        "## Jade Benson\n",
        "\n",
        "In this notebook, I demonstrate how the movie posters were scraped from links and prepared for analysis. "
      ],
      "metadata": {
        "id": "-1REEAS6jwwC"
      }
    },
    {
      "cell_type": "code",
      "source": [
        "import pandas as pd \n",
        "import numpy as np \n",
        "from skimage.io import imshow, imsave, imread\n",
        "from skimage.color import rgb2hsv\n",
        "from PIL import Image\n",
        "import random \n",
        "import requests\n"
      ],
      "metadata": {
        "id": "6c2Zi7q3j8NM"
      },
      "execution_count": null,
      "outputs": []
    },
    {
      "cell_type": "code",
      "source": [
        "#this dataset includes links to posters of movies on wikipedia and their plot summaries \n",
        "movies_df = pd.read_csv('movies.csv')\n",
        "len(movies_df) #15389"
      ],
      "metadata": {
        "id": "uIImzjeUkAM5"
      },
      "execution_count": null,
      "outputs": []
    },
    {
      "cell_type": "code",
      "source": [
        "#poster scraping \n",
        "\n",
        "#can directly download posters without saving locally \n",
        "\n",
        "import requests\n",
        "\n",
        "def collect_posters(image_url, array_list):\n",
        "\n",
        "  r = requests.get(image_url, stream = True)\n",
        "\n",
        "  if r.status_code == 200:\n",
        "      # Set decode_content value to True, otherwise the downloaded image file's size will be zero.\n",
        "      r.raw.decode_content = True\n",
        "      poster = Image.open(r.raw)\n",
        "      poster_rbg = poster.convert('RGB')\n",
        "      poster_array = np.array(poster_rbg)\n",
        "      array_list.append(poster_array)\n",
        "\n",
        "  else:\n",
        "    print('Image Couldn\\'t be retreived')\n",
        "    array_list.append(None)\n"
      ],
      "metadata": {
        "id": "wMENuPP4kF3O"
      },
      "execution_count": null,
      "outputs": []
    },
    {
      "cell_type": "code",
      "source": [
        "poster_links = list(movies_df['Poster']) \n",
        "\n",
        "poster_array_list = []\n",
        "\n",
        "for p in poster_links:\n",
        "\n",
        "  #if nan (missing poster links)\n",
        "  if isinstance(p, float) == True and np.isnan(p) == True: \n",
        "    poster_array_list.append(None)\n",
        "\n",
        "  else: \n",
        "    collect_posters(p, poster_array_list)\n"
      ],
      "metadata": {
        "id": "v2PZShu8kLzX"
      },
      "execution_count": null,
      "outputs": []
    },
    {
      "cell_type": "code",
      "source": [
        "#non-missing posters \n",
        "\n",
        "no_nones = [[x] for x in poster_array_list if x is not None]"
      ],
      "metadata": {
        "id": "xbp9Y3rlkVTf"
      },
      "execution_count": null,
      "outputs": []
    },
    {
      "cell_type": "code",
      "source": [
        "#format this correctly for the models\n",
        "formatted_posters = np.concatenate(no_nones, axis=0)\n"
      ],
      "metadata": {
        "id": "p4X8FDf1kcON"
      },
      "execution_count": null,
      "outputs": []
    },
    {
      "cell_type": "code",
      "source": [
        "#save this\n",
        "np.save('formatted_posters', formatted_posters, allow_pickle=True)"
      ],
      "metadata": {
        "id": "X6utICZmlWJj"
      },
      "execution_count": null,
      "outputs": []
    },
    {
      "cell_type": "markdown",
      "source": [
        "Now we need to figure out which observations to drop from dataframe from the indexes in the poster_array_list. "
      ],
      "metadata": {
        "id": "XKjPI0XdkwK-"
      }
    },
    {
      "cell_type": "code",
      "source": [
        "#create list that is 1 if a poster exists and None if it doesn't exist in poster_array_list \n",
        "\n",
        "poster_indicator = []\n",
        "for x in poster_array_list: \n",
        "    if x is None: \n",
        "        poster_indicator.append(None)\n",
        "    else: \n",
        "        poster_indicator.append(1)\n",
        "        "
      ],
      "metadata": {
        "id": "ia17AFh2kiTL"
      },
      "execution_count": null,
      "outputs": []
    },
    {
      "cell_type": "code",
      "source": [
        "movies_df[\"poster_indicator\"] = poster_indicator\n"
      ],
      "metadata": {
        "id": "5xovNLqlk4Iz"
      },
      "execution_count": null,
      "outputs": []
    },
    {
      "cell_type": "code",
      "source": [
        "#remove those that don't have posters \n",
        "\n",
        "movies_and_posters = movies_df.dropna(axis = 0, subset = ['poster_indicator'])\n",
        "len(movies_and_posters) #13685 (about 2,000 couldn't be collected)"
      ],
      "metadata": {
        "id": "38AuQNnRk7KH"
      },
      "execution_count": null,
      "outputs": []
    },
    {
      "cell_type": "code",
      "source": [
        "movies_and_posters.to_csv('movies_and_posters.csv')"
      ],
      "metadata": {
        "id": "JglDwe3glMIl"
      },
      "execution_count": null,
      "outputs": []
    }
  ]
}