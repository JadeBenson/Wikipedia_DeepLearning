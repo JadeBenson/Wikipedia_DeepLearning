{
  "nbformat": 4,
  "nbformat_minor": 0,
  "metadata": {
    "colab": {
      "name": "tabular-learning.ipynb",
      "provenance": [],
      "machine_shape": "hm",
      "collapsed_sections": [],
      "include_colab_link": true
    },
    "kernelspec": {
      "name": "python3",
      "display_name": "Python 3"
    },
    "language_info": {
      "name": "python"
    },
    "accelerator": "GPU"
  },
  "cells": [
    {
      "cell_type": "markdown",
      "metadata": {
        "id": "view-in-github",
        "colab_type": "text"
      },
      "source": [
        "<a href=\"https://colab.research.google.com/github/JadeBenson/Wikipedia_DeepLearning/blob/main/tabular_learning.ipynb\" target=\"_parent\"><img src=\"https://colab.research.google.com/assets/colab-badge.svg\" alt=\"Open In Colab\"/></a>"
      ]
    },
    {
      "cell_type": "code",
      "execution_count": 4,
      "metadata": {
        "colab": {
          "base_uri": "https://localhost:8080/"
        },
        "id": "qxE6SS6unVqJ",
        "outputId": "3c64f5a5-a53a-4d45-d51c-a48c7dd0ae01"
      },
      "outputs": [
        {
          "output_type": "stream",
          "name": "stdout",
          "text": [
            "Drive already mounted at /content/drive; to attempt to forcibly remount, call drive.mount(\"/content/drive\", force_remount=True).\n"
          ]
        }
      ],
      "source": [
        "import warnings\n",
        "warnings.filterwarnings('ignore')\n",
        "from google.colab import drive\n",
        "drive.mount('/content/drive')\n",
        "import pickle"
      ]
    },
    {
      "cell_type": "code",
      "source": [
        "from collections import Counter\n",
        "import numpy as np\n",
        "import pandas as pd\n",
        "from sklearn.model_selection import train_test_split\n",
        "\n",
        "raw_data_path = '/content/drive/MyDrive/UChicago/Spring2022/deep-learning/movies_and_posters.csv'\n",
        "character_data_path = '/content/drive/MyDrive/UChicago/Spring2022/deep-learning/character.metadata.tsv'\n",
        "destination_folder = '/content/drive/My Drive/UChicago/Spring2022/deep-learning/'\n",
        "\n",
        "wiki = pd.read_csv(raw_data_path)\n",
        "wiki = wiki[~wiki['Genre'].isna()]\n",
        "chars = pd.read_csv(character_data_path,\n",
        "                    sep='\\t',\n",
        "                    names=['wiki_movie_id', 'fb_movie_id', 'release_date', 'char_name', 'actor_dob', 'actor_gender', 'actor_height', 'actor_ethnicity', 'actor_name', 'actor_age', 'fb_map_id', 'fb_char_id', 'fb_actor_id'])\n",
        "\n",
        "\n",
        "wiki['Genre'] = wiki['Genre'].apply(lambda x: x.split('|'))\n",
        "genres = wiki['Genre'].sum()\n",
        "genres = Counter(genres)\n",
        "genres = [k for k, v in genres.items() if v > 900]\n",
        "genres = dict(zip(genres, range(len(genres))))\n",
        "\n",
        "one_hot_genres = []\n",
        "for genre_list in wiki['Genre']: \n",
        "    one_hot_genre = np.zeros(len(genres))\n",
        "    for genre in genre_list: \n",
        "        try:\n",
        "            one_hot_genre[genres[genre]] = 1\n",
        "        except KeyError: \n",
        "            continue\n",
        "    one_hot_genres.append(one_hot_genre)\n",
        "\n",
        "labels = np.array(one_hot_genres)\n",
        "genres_i = [k for k, v in sorted(genres.items(), key=lambda x: x[1])]\n",
        "wiki['label'] = list(labels)\n",
        "\n",
        "mask = ((chars['actor_gender'].isna()) | (chars['fb_actor_id'].isna()) | (chars['actor_age'].isna()))\n",
        "chars = chars[~mask]\n",
        "\n",
        "actor_count = chars.groupby('wiki_movie_id')[['fb_actor_id']].count()\n",
        "chars['male_ratio'] = chars['actor_gender'] == 'M'\n",
        "male_ratio = chars.groupby('wiki_movie_id')[['male_ratio']].mean()\n",
        "actor_age = chars.groupby('wiki_movie_id')[['actor_age']].mean()\n",
        "\n",
        "actors = pd.concat([actor_count, male_ratio, actor_age], axis=1)\n",
        "wiki = wiki.merge(actors, left_on='wiki_ID', right_index=True, how='inner')\n",
        "\n",
        "wiki['tabular_input'] = list(wiki[['year','IMDB Score', 'fb_actor_id', 'actor_age', 'male_ratio']].values.round(2))\n",
        "wiki = wiki[['plot', 'label', 'tabular_input']]"
      ],
      "metadata": {
        "id": "GdhhcejonbGd"
      },
      "execution_count": 5,
      "outputs": []
    },
    {
      "cell_type": "code",
      "source": [
        "'''\n",
        "import spacy\n",
        "import re\n",
        "import string\n",
        "\n",
        "#tokenization\n",
        "tok = spacy.load('en')\n",
        "def tokenize (text):\n",
        "    text = re.sub(r\"[^\\x00-\\x7F]+\", \" \", text)\n",
        "    regex = re.compile('[' + re.escape(string.punctuation) + '0-9\\\\r\\\\t\\\\n]') # remove punctuation and numbers\n",
        "    nopunct = regex.sub(\" \", text.lower())\n",
        "    return [token.text for token in tok.tokenizer(nopunct)]\n",
        "\n",
        "#count number of occurences of each word\n",
        "counts = Counter()\n",
        "for index, row in wiki.iterrows():\n",
        "    counts.update(tokenize(row['plot']))\n",
        "\n",
        "#deleting infrequent words\n",
        "print(\"num_words before:\",len(counts.keys()))\n",
        "for word in list(counts):\n",
        "    if counts[word] < 10:\n",
        "        del counts[word]\n",
        "print(\"num_words after:\",len(counts.keys()))\n",
        "'''"
      ],
      "metadata": {
        "colab": {
          "base_uri": "https://localhost:8080/",
          "height": 568
        },
        "id": "JSxcGPrOn0lG",
        "outputId": "2213e6ad-106a-4a72-daa4-9486f1164e06"
      },
      "execution_count": 6,
      "outputs": [
        {
          "output_type": "error",
          "ename": "KeyboardInterrupt",
          "evalue": "ignored",
          "traceback": [
            "\u001b[0;31m---------------------------------------------------------------------------\u001b[0m",
            "\u001b[0;31mKeyboardInterrupt\u001b[0m                         Traceback (most recent call last)",
            "\u001b[0;32m<ipython-input-6-e5e27323a9f4>\u001b[0m in \u001b[0;36m<module>\u001b[0;34m()\u001b[0m\n\u001b[1;32m     14\u001b[0m \u001b[0mcounts\u001b[0m \u001b[0;34m=\u001b[0m \u001b[0mCounter\u001b[0m\u001b[0;34m(\u001b[0m\u001b[0;34m)\u001b[0m\u001b[0;34m\u001b[0m\u001b[0;34m\u001b[0m\u001b[0m\n\u001b[1;32m     15\u001b[0m \u001b[0;32mfor\u001b[0m \u001b[0mindex\u001b[0m\u001b[0;34m,\u001b[0m \u001b[0mrow\u001b[0m \u001b[0;32min\u001b[0m \u001b[0mwiki\u001b[0m\u001b[0;34m.\u001b[0m\u001b[0miterrows\u001b[0m\u001b[0;34m(\u001b[0m\u001b[0;34m)\u001b[0m\u001b[0;34m:\u001b[0m\u001b[0;34m\u001b[0m\u001b[0;34m\u001b[0m\u001b[0m\n\u001b[0;32m---> 16\u001b[0;31m     \u001b[0mcounts\u001b[0m\u001b[0;34m.\u001b[0m\u001b[0mupdate\u001b[0m\u001b[0;34m(\u001b[0m\u001b[0mtokenize\u001b[0m\u001b[0;34m(\u001b[0m\u001b[0mrow\u001b[0m\u001b[0;34m[\u001b[0m\u001b[0;34m'plot'\u001b[0m\u001b[0;34m]\u001b[0m\u001b[0;34m)\u001b[0m\u001b[0;34m)\u001b[0m\u001b[0;34m\u001b[0m\u001b[0;34m\u001b[0m\u001b[0m\n\u001b[0m\u001b[1;32m     17\u001b[0m \u001b[0;34m\u001b[0m\u001b[0m\n\u001b[1;32m     18\u001b[0m \u001b[0;31m#deleting infrequent words\u001b[0m\u001b[0;34m\u001b[0m\u001b[0;34m\u001b[0m\u001b[0;34m\u001b[0m\u001b[0m\n",
            "\u001b[0;32m<ipython-input-6-e5e27323a9f4>\u001b[0m in \u001b[0;36mtokenize\u001b[0;34m(text)\u001b[0m\n\u001b[1;32m      9\u001b[0m     \u001b[0mregex\u001b[0m \u001b[0;34m=\u001b[0m \u001b[0mre\u001b[0m\u001b[0;34m.\u001b[0m\u001b[0mcompile\u001b[0m\u001b[0;34m(\u001b[0m\u001b[0;34m'['\u001b[0m \u001b[0;34m+\u001b[0m \u001b[0mre\u001b[0m\u001b[0;34m.\u001b[0m\u001b[0mescape\u001b[0m\u001b[0;34m(\u001b[0m\u001b[0mstring\u001b[0m\u001b[0;34m.\u001b[0m\u001b[0mpunctuation\u001b[0m\u001b[0;34m)\u001b[0m \u001b[0;34m+\u001b[0m \u001b[0;34m'0-9\\\\r\\\\t\\\\n]'\u001b[0m\u001b[0;34m)\u001b[0m \u001b[0;31m# remove punctuation and numbers\u001b[0m\u001b[0;34m\u001b[0m\u001b[0;34m\u001b[0m\u001b[0m\n\u001b[1;32m     10\u001b[0m     \u001b[0mnopunct\u001b[0m \u001b[0;34m=\u001b[0m \u001b[0mregex\u001b[0m\u001b[0;34m.\u001b[0m\u001b[0msub\u001b[0m\u001b[0;34m(\u001b[0m\u001b[0;34m\" \"\u001b[0m\u001b[0;34m,\u001b[0m \u001b[0mtext\u001b[0m\u001b[0;34m.\u001b[0m\u001b[0mlower\u001b[0m\u001b[0;34m(\u001b[0m\u001b[0;34m)\u001b[0m\u001b[0;34m)\u001b[0m\u001b[0;34m\u001b[0m\u001b[0;34m\u001b[0m\u001b[0m\n\u001b[0;32m---> 11\u001b[0;31m     \u001b[0;32mreturn\u001b[0m \u001b[0;34m[\u001b[0m\u001b[0mtoken\u001b[0m\u001b[0;34m.\u001b[0m\u001b[0mtext\u001b[0m \u001b[0;32mfor\u001b[0m \u001b[0mtoken\u001b[0m \u001b[0;32min\u001b[0m \u001b[0mtok\u001b[0m\u001b[0;34m.\u001b[0m\u001b[0mtokenizer\u001b[0m\u001b[0;34m(\u001b[0m\u001b[0mnopunct\u001b[0m\u001b[0;34m)\u001b[0m\u001b[0;34m]\u001b[0m\u001b[0;34m\u001b[0m\u001b[0;34m\u001b[0m\u001b[0m\n\u001b[0m\u001b[1;32m     12\u001b[0m \u001b[0;34m\u001b[0m\u001b[0m\n\u001b[1;32m     13\u001b[0m \u001b[0;31m#count number of occurences of each word\u001b[0m\u001b[0;34m\u001b[0m\u001b[0;34m\u001b[0m\u001b[0;34m\u001b[0m\u001b[0m\n",
            "\u001b[0;32mtokenizer.pyx\u001b[0m in \u001b[0;36mspacy.tokenizer.Tokenizer.__call__\u001b[0;34m()\u001b[0m\n",
            "\u001b[0;32mtokenizer.pyx\u001b[0m in \u001b[0;36mspacy.tokenizer.Tokenizer._tokenize\u001b[0;34m()\u001b[0m\n",
            "\u001b[0;32mtokenizer.pyx\u001b[0m in \u001b[0;36mspacy.tokenizer.Tokenizer._attach_tokens\u001b[0;34m()\u001b[0m\n",
            "\u001b[0;32mvocab.pyx\u001b[0m in \u001b[0;36mspacy.vocab.Vocab.get\u001b[0;34m()\u001b[0m\n",
            "\u001b[0;32mvocab.pyx\u001b[0m in \u001b[0;36mspacy.vocab.Vocab._new_lexeme\u001b[0;34m()\u001b[0m\n",
            "\u001b[0;32m/usr/local/lib/python3.7/dist-packages/spacy/lang/lex_attrs.py\u001b[0m in \u001b[0;36mlower\u001b[0;34m(string)\u001b[0m\n\u001b[1;32m    175\u001b[0m \u001b[0;34m\u001b[0m\u001b[0m\n\u001b[1;32m    176\u001b[0m \u001b[0;34m\u001b[0m\u001b[0m\n\u001b[0;32m--> 177\u001b[0;31m \u001b[0;32mdef\u001b[0m \u001b[0mlower\u001b[0m\u001b[0;34m(\u001b[0m\u001b[0mstring\u001b[0m\u001b[0;34m)\u001b[0m\u001b[0;34m:\u001b[0m\u001b[0;34m\u001b[0m\u001b[0;34m\u001b[0m\u001b[0m\n\u001b[0m\u001b[1;32m    178\u001b[0m     \u001b[0;32mreturn\u001b[0m \u001b[0mstring\u001b[0m\u001b[0;34m.\u001b[0m\u001b[0mlower\u001b[0m\u001b[0;34m(\u001b[0m\u001b[0;34m)\u001b[0m\u001b[0;34m\u001b[0m\u001b[0;34m\u001b[0m\u001b[0m\n\u001b[1;32m    179\u001b[0m \u001b[0;34m\u001b[0m\u001b[0m\n",
            "\u001b[0;31mKeyboardInterrupt\u001b[0m: "
          ]
        }
      ]
    },
    {
      "cell_type": "code",
      "source": [
        "#creating vocabulary\n",
        "'''\n",
        "vocab2index = {\"\":0, \"UNK\":1}\n",
        "words = [\"\", \"UNK\"]\n",
        "for word in counts:\n",
        "    vocab2index[word] = len(words)\n",
        "    words.append(word)\n",
        "    '''"
      ],
      "metadata": {
        "id": "8qAKYyckn958"
      },
      "execution_count": null,
      "outputs": []
    },
    {
      "cell_type": "code",
      "source": [
        "'''\n",
        "def encode_sentence(text, vocab2index, N=70):\n",
        "    tokenized = tokenize(text)\n",
        "    encoded = np.zeros(N, dtype=int)\n",
        "    enc1 = np.array([vocab2index.get(word, vocab2index[\"UNK\"]) for word in tokenized])\n",
        "    length = min(N, len(enc1))\n",
        "    encoded[:length] = enc1[:length]\n",
        "    return encoded, length\n",
        "\n",
        "wiki['encoded'] = wiki['plot'].apply(lambda x: np.array(encode_sentence(x,vocab2index )))\n",
        "wiki.head()\n",
        "'''"
      ],
      "metadata": {
        "colab": {
          "base_uri": "https://localhost:8080/",
          "height": 206
        },
        "id": "HNgds60HoVU0",
        "outputId": "20eb4f32-4804-47e7-817b-cad333d95019"
      },
      "execution_count": null,
      "outputs": [
        {
          "output_type": "execute_result",
          "data": {
            "text/plain": [
              "                                                plot  \\\n",
              "0  Set in the second half of the 22nd century, th...   \n",
              "1  A series of murders of rich young women throug...   \n",
              "2  Adam, a San Francisco-based artist who works a...   \n",
              "3  {{Plot|dateAct 1Act 2Act 3Act 4Act 5 Finally n...   \n",
              "4  The film opens with Mary Poppins  perched in a...   \n",
              "\n",
              "                                               label  \\\n",
              "0  [1.0, 1.0, 0.0, 0.0, 0.0, 0.0, 0.0, 0.0, 0.0, ...   \n",
              "1  [0.0, 1.0, 1.0, 0.0, 0.0, 0.0, 0.0, 0.0, 0.0, ...   \n",
              "2  [0.0, 0.0, 0.0, 1.0, 1.0, 0.0, 0.0, 0.0, 0.0, ...   \n",
              "3  [1.0, 0.0, 0.0, 0.0, 0.0, 1.0, 0.0, 0.0, 0.0, ...   \n",
              "4  [0.0, 0.0, 0.0, 1.0, 0.0, 0.0, 1.0, 0.0, 0.0, ...   \n",
              "\n",
              "                      tabular_input  \\\n",
              "0  [2001.0, 4.9, 13.0, 43.46, 0.54]   \n",
              "1     [1987.0, 6.4, 2.0, 29.0, 0.5]   \n",
              "2   [1997.0, 6.1, 6.0, 35.17, 0.33]   \n",
              "3   [1989.0, 7.7, 20.0, 45.9, 0.85]   \n",
              "4    [1964.0, 7.8, 10.0, 37.6, 0.4]   \n",
              "\n",
              "                                             encoded  \n",
              "0  [[2, 3, 4, 5, 6, 7, 4, 8, 9, 10, 11, 4, 12, 13...  \n",
              "1  [[16, 206, 7, 207, 7, 208, 209, 37, 210, 211, ...  \n",
              "2  [[449, 11, 16, 450, 451, 443, 452, 149, 453, 1...  \n",
              "3  [[8, 523, 1, 11, 524, 11, 524, 11, 524, 11, 52...  \n",
              "4  [[4, 12, 426, 36, 550, 551, 11, 552, 3, 16, 55...  "
            ],
            "text/html": [
              "\n",
              "  <div id=\"df-1199c275-2be7-4fc3-82ef-59b0f0217dd7\">\n",
              "    <div class=\"colab-df-container\">\n",
              "      <div>\n",
              "<style scoped>\n",
              "    .dataframe tbody tr th:only-of-type {\n",
              "        vertical-align: middle;\n",
              "    }\n",
              "\n",
              "    .dataframe tbody tr th {\n",
              "        vertical-align: top;\n",
              "    }\n",
              "\n",
              "    .dataframe thead th {\n",
              "        text-align: right;\n",
              "    }\n",
              "</style>\n",
              "<table border=\"1\" class=\"dataframe\">\n",
              "  <thead>\n",
              "    <tr style=\"text-align: right;\">\n",
              "      <th></th>\n",
              "      <th>plot</th>\n",
              "      <th>label</th>\n",
              "      <th>tabular_input</th>\n",
              "      <th>encoded</th>\n",
              "    </tr>\n",
              "  </thead>\n",
              "  <tbody>\n",
              "    <tr>\n",
              "      <th>0</th>\n",
              "      <td>Set in the second half of the 22nd century, th...</td>\n",
              "      <td>[1.0, 1.0, 0.0, 0.0, 0.0, 0.0, 0.0, 0.0, 0.0, ...</td>\n",
              "      <td>[2001.0, 4.9, 13.0, 43.46, 0.54]</td>\n",
              "      <td>[[2, 3, 4, 5, 6, 7, 4, 8, 9, 10, 11, 4, 12, 13...</td>\n",
              "    </tr>\n",
              "    <tr>\n",
              "      <th>1</th>\n",
              "      <td>A series of murders of rich young women throug...</td>\n",
              "      <td>[0.0, 1.0, 1.0, 0.0, 0.0, 0.0, 0.0, 0.0, 0.0, ...</td>\n",
              "      <td>[1987.0, 6.4, 2.0, 29.0, 0.5]</td>\n",
              "      <td>[[16, 206, 7, 207, 7, 208, 209, 37, 210, 211, ...</td>\n",
              "    </tr>\n",
              "    <tr>\n",
              "      <th>2</th>\n",
              "      <td>Adam, a San Francisco-based artist who works a...</td>\n",
              "      <td>[0.0, 0.0, 0.0, 1.0, 1.0, 0.0, 0.0, 0.0, 0.0, ...</td>\n",
              "      <td>[1997.0, 6.1, 6.0, 35.17, 0.33]</td>\n",
              "      <td>[[449, 11, 16, 450, 451, 443, 452, 149, 453, 1...</td>\n",
              "    </tr>\n",
              "    <tr>\n",
              "      <th>3</th>\n",
              "      <td>{{Plot|dateAct 1Act 2Act 3Act 4Act 5 Finally n...</td>\n",
              "      <td>[1.0, 0.0, 0.0, 0.0, 0.0, 1.0, 0.0, 0.0, 0.0, ...</td>\n",
              "      <td>[1989.0, 7.7, 20.0, 45.9, 0.85]</td>\n",
              "      <td>[[8, 523, 1, 11, 524, 11, 524, 11, 524, 11, 52...</td>\n",
              "    </tr>\n",
              "    <tr>\n",
              "      <th>4</th>\n",
              "      <td>The film opens with Mary Poppins  perched in a...</td>\n",
              "      <td>[0.0, 0.0, 0.0, 1.0, 0.0, 0.0, 1.0, 0.0, 0.0, ...</td>\n",
              "      <td>[1964.0, 7.8, 10.0, 37.6, 0.4]</td>\n",
              "      <td>[[4, 12, 426, 36, 550, 551, 11, 552, 3, 16, 55...</td>\n",
              "    </tr>\n",
              "  </tbody>\n",
              "</table>\n",
              "</div>\n",
              "      <button class=\"colab-df-convert\" onclick=\"convertToInteractive('df-1199c275-2be7-4fc3-82ef-59b0f0217dd7')\"\n",
              "              title=\"Convert this dataframe to an interactive table.\"\n",
              "              style=\"display:none;\">\n",
              "        \n",
              "  <svg xmlns=\"http://www.w3.org/2000/svg\" height=\"24px\"viewBox=\"0 0 24 24\"\n",
              "       width=\"24px\">\n",
              "    <path d=\"M0 0h24v24H0V0z\" fill=\"none\"/>\n",
              "    <path d=\"M18.56 5.44l.94 2.06.94-2.06 2.06-.94-2.06-.94-.94-2.06-.94 2.06-2.06.94zm-11 1L8.5 8.5l.94-2.06 2.06-.94-2.06-.94L8.5 2.5l-.94 2.06-2.06.94zm10 10l.94 2.06.94-2.06 2.06-.94-2.06-.94-.94-2.06-.94 2.06-2.06.94z\"/><path d=\"M17.41 7.96l-1.37-1.37c-.4-.4-.92-.59-1.43-.59-.52 0-1.04.2-1.43.59L10.3 9.45l-7.72 7.72c-.78.78-.78 2.05 0 2.83L4 21.41c.39.39.9.59 1.41.59.51 0 1.02-.2 1.41-.59l7.78-7.78 2.81-2.81c.8-.78.8-2.07 0-2.86zM5.41 20L4 18.59l7.72-7.72 1.47 1.35L5.41 20z\"/>\n",
              "  </svg>\n",
              "      </button>\n",
              "      \n",
              "  <style>\n",
              "    .colab-df-container {\n",
              "      display:flex;\n",
              "      flex-wrap:wrap;\n",
              "      gap: 12px;\n",
              "    }\n",
              "\n",
              "    .colab-df-convert {\n",
              "      background-color: #E8F0FE;\n",
              "      border: none;\n",
              "      border-radius: 50%;\n",
              "      cursor: pointer;\n",
              "      display: none;\n",
              "      fill: #1967D2;\n",
              "      height: 32px;\n",
              "      padding: 0 0 0 0;\n",
              "      width: 32px;\n",
              "    }\n",
              "\n",
              "    .colab-df-convert:hover {\n",
              "      background-color: #E2EBFA;\n",
              "      box-shadow: 0px 1px 2px rgba(60, 64, 67, 0.3), 0px 1px 3px 1px rgba(60, 64, 67, 0.15);\n",
              "      fill: #174EA6;\n",
              "    }\n",
              "\n",
              "    [theme=dark] .colab-df-convert {\n",
              "      background-color: #3B4455;\n",
              "      fill: #D2E3FC;\n",
              "    }\n",
              "\n",
              "    [theme=dark] .colab-df-convert:hover {\n",
              "      background-color: #434B5C;\n",
              "      box-shadow: 0px 1px 3px 1px rgba(0, 0, 0, 0.15);\n",
              "      filter: drop-shadow(0px 1px 2px rgba(0, 0, 0, 0.3));\n",
              "      fill: #FFFFFF;\n",
              "    }\n",
              "  </style>\n",
              "\n",
              "      <script>\n",
              "        const buttonEl =\n",
              "          document.querySelector('#df-1199c275-2be7-4fc3-82ef-59b0f0217dd7 button.colab-df-convert');\n",
              "        buttonEl.style.display =\n",
              "          google.colab.kernel.accessAllowed ? 'block' : 'none';\n",
              "\n",
              "        async function convertToInteractive(key) {\n",
              "          const element = document.querySelector('#df-1199c275-2be7-4fc3-82ef-59b0f0217dd7');\n",
              "          const dataTable =\n",
              "            await google.colab.kernel.invokeFunction('convertToInteractive',\n",
              "                                                     [key], {});\n",
              "          if (!dataTable) return;\n",
              "\n",
              "          const docLinkHtml = 'Like what you see? Visit the ' +\n",
              "            '<a target=\"_blank\" href=https://colab.research.google.com/notebooks/data_table.ipynb>data table notebook</a>'\n",
              "            + ' to learn more about interactive tables.';\n",
              "          element.innerHTML = '';\n",
              "          dataTable['output_type'] = 'display_data';\n",
              "          await google.colab.output.renderOutput(dataTable, element);\n",
              "          const docLink = document.createElement('div');\n",
              "          docLink.innerHTML = docLinkHtml;\n",
              "          element.appendChild(docLink);\n",
              "        }\n",
              "      </script>\n",
              "    </div>\n",
              "  </div>\n",
              "  "
            ]
          },
          "metadata": {},
          "execution_count": 5
        }
      ]
    },
    {
      "cell_type": "markdown",
      "source": [
        "## PyTorch Dataset"
      ],
      "metadata": {
        "id": "44mLI9Muo3EG"
      }
    },
    {
      "cell_type": "code",
      "source": [
        "#posters = np.load('/content/drive/MyDrive/deep-learning/formatted_posters.npy')[wiki.index]\n",
        "\n",
        "#X = list(wiki['encoded'])\n",
        "y = list(wiki['label'])\n",
        "\n",
        "tabular = list(wiki['tabular_input'])\n",
        "\n",
        "y_train, y_valid = train_test_split(y, test_size=0.2, random_state=1)\n",
        "#posters_train, posters_valid = train_test_split(posters, test_size=0.2, random_state=1)\n",
        "tabular_train, tabular_valid = train_test_split(tabular, test_size=0.2, random_state=1)"
      ],
      "metadata": {
        "id": "Jou9RGTqpQPV"
      },
      "execution_count": 17,
      "outputs": []
    },
    {
      "cell_type": "code",
      "source": [
        "import torch\n",
        "import torch.nn as nn\n",
        "from torch.utils.data import Dataset, DataLoader\n",
        "\n",
        "class MovieDataset(Dataset):\n",
        "    def __init__(self, Y, tabular):\n",
        "        #self.X = X\n",
        "        #self.posters = posters\n",
        "        self.y = Y\n",
        "        self.tabular = tabular\n",
        "        \n",
        "    def __len__(self):\n",
        "        return len(self.y)\n",
        "    \n",
        "    def __getitem__(self, idx):\n",
        "        return self.y[idx], self.tabular[idx]\n",
        "\n",
        "train_ds = MovieDataset(y_train, tabular_train)\n",
        "valid_ds = MovieDataset(y_valid, tabular_valid)\n",
        "\n",
        "batch_size = 32\n",
        "#vocab_size = len(words)\n",
        "train_dl = DataLoader(train_ds, batch_size=batch_size, shuffle=True)\n",
        "val_dl = DataLoader(valid_ds, batch_size=batch_size)"
      ],
      "metadata": {
        "id": "cqGka-gQowD1"
      },
      "execution_count": 19,
      "outputs": []
    },
    {
      "cell_type": "code",
      "source": [
        "import torch.nn.functional as F\n",
        "import random\n",
        "\n",
        "criterion = nn.BCELoss()\n",
        "device = torch.device(\"cuda\" if torch.cuda.is_available() else \"cpu\")\n",
        "\n",
        "def train_model(model, epochs=10, lr=0.001):\n",
        "\n",
        "    parameters = filter(lambda p: p.requires_grad, model.parameters())\n",
        "    optimizer = torch.optim.Adam(parameters, lr=lr)\n",
        "    for i in range(epochs):\n",
        "        model.train()\n",
        "        sum_loss = 0.0\n",
        "        total = 0\n",
        "        for y, t in train_dl:\n",
        "            y = y.float().to(device)\n",
        "            t = t.float().to(device)\n",
        "\n",
        "            y_pred = model(t)\n",
        "            optimizer.zero_grad()\n",
        "            loss = criterion(y_pred, y)\n",
        "            loss.backward()\n",
        "            optimizer.step()\n",
        "            sum_loss += loss.item()*y.shape[0]\n",
        "            total += y.shape[0]\n",
        "        val_loss = validation_metrics(model, val_dl)\n",
        "        print(f\"Epoch {i}: train loss {round(sum_loss/total, 4)}, val loss {round(val_loss, 4)}\")\n",
        "\n",
        "def validation_metrics (model, valid_dl):\n",
        "    model.eval()\n",
        "    correct = 0\n",
        "    total = 0\n",
        "    sum_loss = 0.0\n",
        "    sum_rmse = 0.0\n",
        "    for y, t in valid_dl:\n",
        "        y = y.float().to(device)\n",
        "        t = t.float().to(device)\n",
        "\n",
        "        with torch.no_grad():\n",
        "            y_hat = model(t)\n",
        "        loss = criterion(y_hat, y)\n",
        "        total += y.shape[0]\n",
        "        sum_loss += loss.item()*y.shape[0]\n",
        "    return sum_loss/total"
      ],
      "metadata": {
        "id": "3Rwr6kEjpKsY"
      },
      "execution_count": 20,
      "outputs": []
    },
    {
      "cell_type": "code",
      "source": [
        "from torch.nn.utils.rnn import pack_padded_sequence, pad_packed_sequence\n",
        "\n",
        "class TabularNet(torch.nn.Module) :\n",
        "    def __init__(self) :\n",
        "        super().__init__()\n",
        "\n",
        "        self.fc1 = nn.Linear(5, 12)\n",
        "        self.fc2 = nn.Linear(12, len(genres_i))\n",
        "        #self.fc1 = nn.Linear(5, len(genres_i))\n",
        "        self.sigmoid = nn.Sigmoid()\n",
        "        self.relu = nn.ReLU()\n",
        "\n",
        "    def forward(self, t):\n",
        "\n",
        "        out = self.fc1(t)\n",
        "        out = self.relu(out)\n",
        "        out = self.fc2(out)\n",
        "        out = self.sigmoid(out)\n",
        "\n",
        "        return out"
      ],
      "metadata": {
        "id": "XQorpf8ZqANa"
      },
      "execution_count": 35,
      "outputs": []
    },
    {
      "cell_type": "code",
      "source": [
        "seed_val = 42\n",
        "random.seed(seed_val)\n",
        "np.random.seed(seed_val)\n",
        "torch.manual_seed(seed_val)\n",
        "torch.cuda.manual_seed_all(seed_val)\n",
        "\n",
        "model =  TabularNet().to(device)"
      ],
      "metadata": {
        "id": "rx-CAZf5rhkf"
      },
      "execution_count": 37,
      "outputs": []
    },
    {
      "cell_type": "code",
      "source": [
        "train_model(model, epochs=50, lr=0.005)"
      ],
      "metadata": {
        "colab": {
          "base_uri": "https://localhost:8080/"
        },
        "id": "KLv9Q_bRrm4E",
        "outputId": "d5e216f8-4d11-465f-92e5-1c7b6d6666e4"
      },
      "execution_count": 38,
      "outputs": [
        {
          "output_type": "stream",
          "name": "stdout",
          "text": [
            "Epoch 0: train loss 52.4921, val loss 51.7686\n",
            "Epoch 1: train loss 51.9086, val loss 51.7686\n",
            "Epoch 2: train loss 51.9086, val loss 51.7686\n",
            "Epoch 3: train loss 51.9086, val loss 51.7686\n",
            "Epoch 4: train loss 51.9086, val loss 51.7686\n",
            "Epoch 5: train loss 51.9086, val loss 51.7686\n",
            "Epoch 6: train loss 51.9086, val loss 51.7686\n",
            "Epoch 7: train loss 51.9086, val loss 51.7686\n",
            "Epoch 8: train loss 51.9086, val loss 51.7686\n",
            "Epoch 9: train loss 51.9086, val loss 51.7686\n",
            "Epoch 10: train loss 51.9086, val loss 51.7686\n",
            "Epoch 11: train loss 51.9086, val loss 51.7686\n",
            "Epoch 12: train loss 51.9086, val loss 51.7686\n",
            "Epoch 13: train loss 51.9086, val loss 51.7686\n",
            "Epoch 14: train loss 51.9086, val loss 51.7686\n",
            "Epoch 15: train loss 51.9086, val loss 51.7686\n",
            "Epoch 16: train loss 51.9086, val loss 51.7686\n",
            "Epoch 17: train loss 51.9086, val loss 51.7686\n",
            "Epoch 18: train loss 51.9086, val loss 51.7686\n",
            "Epoch 19: train loss 51.9086, val loss 51.7686\n",
            "Epoch 20: train loss 51.9086, val loss 51.7686\n",
            "Epoch 21: train loss 51.9086, val loss 51.7686\n",
            "Epoch 22: train loss 51.9086, val loss 51.7686\n",
            "Epoch 23: train loss 51.9086, val loss 51.7686\n",
            "Epoch 24: train loss 51.9086, val loss 51.7686\n",
            "Epoch 25: train loss 51.9086, val loss 51.7686\n",
            "Epoch 26: train loss 51.9086, val loss 51.7686\n",
            "Epoch 27: train loss 51.9086, val loss 51.7686\n",
            "Epoch 28: train loss 51.9086, val loss 51.7686\n",
            "Epoch 29: train loss 51.9086, val loss 51.7686\n",
            "Epoch 30: train loss 51.9086, val loss 51.7686\n",
            "Epoch 31: train loss 51.9086, val loss 51.7686\n",
            "Epoch 32: train loss 51.9086, val loss 51.7686\n",
            "Epoch 33: train loss 51.9086, val loss 51.7686\n",
            "Epoch 34: train loss 51.9086, val loss 51.7686\n",
            "Epoch 35: train loss 51.9086, val loss 51.7686\n",
            "Epoch 36: train loss 51.9086, val loss 51.7686\n",
            "Epoch 37: train loss 51.9086, val loss 51.7686\n",
            "Epoch 38: train loss 51.9086, val loss 51.7686\n",
            "Epoch 39: train loss 51.9086, val loss 51.7686\n",
            "Epoch 40: train loss 51.9086, val loss 51.7686\n",
            "Epoch 41: train loss 51.9086, val loss 51.7686\n",
            "Epoch 42: train loss 51.9086, val loss 51.7686\n",
            "Epoch 43: train loss 51.9086, val loss 51.7686\n",
            "Epoch 44: train loss 51.9086, val loss 51.7686\n",
            "Epoch 45: train loss 51.9086, val loss 51.7686\n",
            "Epoch 46: train loss 51.9086, val loss 51.7686\n",
            "Epoch 47: train loss 51.9086, val loss 51.7686\n",
            "Epoch 48: train loss 51.9086, val loss 51.7686\n",
            "Epoch 49: train loss 51.9086, val loss 51.7686\n"
          ]
        }
      ]
    },
    {
      "cell_type": "code",
      "source": [
        "start = True\n",
        "\n",
        "for y, t in val_dl:\n",
        "    y = y.float().to(device)\n",
        "    t = t.float().to(device)\n",
        "    with torch.no_grad():\n",
        "        y_hat = model(t)\n",
        "    logits = y_hat.detach().cpu().numpy()\n",
        "    label_ids = y.to('cpu').numpy()\n",
        "    if start: \n",
        "        probs = logits \n",
        "        test_labels = label_ids\n",
        "        start = False\n",
        "    else:\n",
        "        probs = np.concatenate((probs, logits))\n",
        "        test_labels = np.concatenate((test_labels, label_ids))\n",
        "    "
      ],
      "metadata": {
        "id": "sBVV1ECMywv6"
      },
      "execution_count": 26,
      "outputs": []
    },
    {
      "cell_type": "code",
      "source": [
        "from sklearn import metrics\n",
        "# precision, recall, accuracy, f1, roc_auc\n",
        "genres_i = [k for k, v in sorted(genres.items(), key=lambda x: x[1])]\n",
        "\n",
        "metric_dict = {\n",
        "    'f1_score': [],\n",
        "    'precision': [],\n",
        "    'recall': [],\n",
        "    'accuracy': [],\n",
        "    'roc_auc': []\n",
        "}\n",
        "for i, genre in enumerate(genres_i):\n",
        "    metric_dict['f1_score'].append(metrics.f1_score(test_labels[:, i], probs[:, i] > .5))\n",
        "    metric_dict['precision'].append(metrics.precision_score(test_labels[:, i], probs[:, i] > .5))\n",
        "    metric_dict['recall'].append(metrics.recall_score(test_labels[:, i], probs[:, i] > .5))\n",
        "    metric_dict['accuracy'].append(metrics.accuracy_score(test_labels[:, i], probs[:, i] > .5))\n",
        "    metric_dict['roc_auc'].append(metrics.roc_auc_score(test_labels[:, i], probs[:, i] > .5))\n",
        "\n",
        "metric_dict['genres'] = genres_i\n",
        "metric_df = pd.DataFrame(metric_dict)\n",
        "metric_df.sort_values('roc_auc', ascending=False, inplace=True)\n",
        "metric_df"
      ],
      "metadata": {
        "colab": {
          "base_uri": "https://localhost:8080/",
          "height": 363
        },
        "id": "lq-1SK6DOczj",
        "outputId": "28403538-85e9-4107-928d-dd58e2afc16e"
      },
      "execution_count": 27,
      "outputs": [
        {
          "output_type": "execute_result",
          "data": {
            "text/plain": [
              "   f1_score  precision  recall  accuracy  roc_auc     genres\n",
              "0  0.000000   0.000000     0.0  0.833725      0.5     Action\n",
              "1  0.208641   0.116471     1.0  0.116471      0.5     Horror\n",
              "2  0.000000   0.000000     0.0  0.850588      0.5   Thriller\n",
              "3  0.000000   0.000000     0.0  0.638431      0.5     Comedy\n",
              "4  0.000000   0.000000     0.0  0.808627      0.5    Romance\n",
              "5  0.000000   0.000000     0.0  0.462353      0.5      Drama\n",
              "6  0.142077   0.076471     1.0  0.076471      0.5     Family\n",
              "7  0.231009   0.130588     1.0  0.130588      0.5  Adventure\n",
              "8  0.000000   0.000000     0.0  0.832941      0.5      Crime\n",
              "9  0.135965   0.072941     1.0  0.072941      0.5    Mystery"
            ],
            "text/html": [
              "\n",
              "  <div id=\"df-300176e3-3b79-4f5e-8f40-8b9dfaa41eb1\">\n",
              "    <div class=\"colab-df-container\">\n",
              "      <div>\n",
              "<style scoped>\n",
              "    .dataframe tbody tr th:only-of-type {\n",
              "        vertical-align: middle;\n",
              "    }\n",
              "\n",
              "    .dataframe tbody tr th {\n",
              "        vertical-align: top;\n",
              "    }\n",
              "\n",
              "    .dataframe thead th {\n",
              "        text-align: right;\n",
              "    }\n",
              "</style>\n",
              "<table border=\"1\" class=\"dataframe\">\n",
              "  <thead>\n",
              "    <tr style=\"text-align: right;\">\n",
              "      <th></th>\n",
              "      <th>f1_score</th>\n",
              "      <th>precision</th>\n",
              "      <th>recall</th>\n",
              "      <th>accuracy</th>\n",
              "      <th>roc_auc</th>\n",
              "      <th>genres</th>\n",
              "    </tr>\n",
              "  </thead>\n",
              "  <tbody>\n",
              "    <tr>\n",
              "      <th>0</th>\n",
              "      <td>0.000000</td>\n",
              "      <td>0.000000</td>\n",
              "      <td>0.0</td>\n",
              "      <td>0.833725</td>\n",
              "      <td>0.5</td>\n",
              "      <td>Action</td>\n",
              "    </tr>\n",
              "    <tr>\n",
              "      <th>1</th>\n",
              "      <td>0.208641</td>\n",
              "      <td>0.116471</td>\n",
              "      <td>1.0</td>\n",
              "      <td>0.116471</td>\n",
              "      <td>0.5</td>\n",
              "      <td>Horror</td>\n",
              "    </tr>\n",
              "    <tr>\n",
              "      <th>2</th>\n",
              "      <td>0.000000</td>\n",
              "      <td>0.000000</td>\n",
              "      <td>0.0</td>\n",
              "      <td>0.850588</td>\n",
              "      <td>0.5</td>\n",
              "      <td>Thriller</td>\n",
              "    </tr>\n",
              "    <tr>\n",
              "      <th>3</th>\n",
              "      <td>0.000000</td>\n",
              "      <td>0.000000</td>\n",
              "      <td>0.0</td>\n",
              "      <td>0.638431</td>\n",
              "      <td>0.5</td>\n",
              "      <td>Comedy</td>\n",
              "    </tr>\n",
              "    <tr>\n",
              "      <th>4</th>\n",
              "      <td>0.000000</td>\n",
              "      <td>0.000000</td>\n",
              "      <td>0.0</td>\n",
              "      <td>0.808627</td>\n",
              "      <td>0.5</td>\n",
              "      <td>Romance</td>\n",
              "    </tr>\n",
              "    <tr>\n",
              "      <th>5</th>\n",
              "      <td>0.000000</td>\n",
              "      <td>0.000000</td>\n",
              "      <td>0.0</td>\n",
              "      <td>0.462353</td>\n",
              "      <td>0.5</td>\n",
              "      <td>Drama</td>\n",
              "    </tr>\n",
              "    <tr>\n",
              "      <th>6</th>\n",
              "      <td>0.142077</td>\n",
              "      <td>0.076471</td>\n",
              "      <td>1.0</td>\n",
              "      <td>0.076471</td>\n",
              "      <td>0.5</td>\n",
              "      <td>Family</td>\n",
              "    </tr>\n",
              "    <tr>\n",
              "      <th>7</th>\n",
              "      <td>0.231009</td>\n",
              "      <td>0.130588</td>\n",
              "      <td>1.0</td>\n",
              "      <td>0.130588</td>\n",
              "      <td>0.5</td>\n",
              "      <td>Adventure</td>\n",
              "    </tr>\n",
              "    <tr>\n",
              "      <th>8</th>\n",
              "      <td>0.000000</td>\n",
              "      <td>0.000000</td>\n",
              "      <td>0.0</td>\n",
              "      <td>0.832941</td>\n",
              "      <td>0.5</td>\n",
              "      <td>Crime</td>\n",
              "    </tr>\n",
              "    <tr>\n",
              "      <th>9</th>\n",
              "      <td>0.135965</td>\n",
              "      <td>0.072941</td>\n",
              "      <td>1.0</td>\n",
              "      <td>0.072941</td>\n",
              "      <td>0.5</td>\n",
              "      <td>Mystery</td>\n",
              "    </tr>\n",
              "  </tbody>\n",
              "</table>\n",
              "</div>\n",
              "      <button class=\"colab-df-convert\" onclick=\"convertToInteractive('df-300176e3-3b79-4f5e-8f40-8b9dfaa41eb1')\"\n",
              "              title=\"Convert this dataframe to an interactive table.\"\n",
              "              style=\"display:none;\">\n",
              "        \n",
              "  <svg xmlns=\"http://www.w3.org/2000/svg\" height=\"24px\"viewBox=\"0 0 24 24\"\n",
              "       width=\"24px\">\n",
              "    <path d=\"M0 0h24v24H0V0z\" fill=\"none\"/>\n",
              "    <path d=\"M18.56 5.44l.94 2.06.94-2.06 2.06-.94-2.06-.94-.94-2.06-.94 2.06-2.06.94zm-11 1L8.5 8.5l.94-2.06 2.06-.94-2.06-.94L8.5 2.5l-.94 2.06-2.06.94zm10 10l.94 2.06.94-2.06 2.06-.94-2.06-.94-.94-2.06-.94 2.06-2.06.94z\"/><path d=\"M17.41 7.96l-1.37-1.37c-.4-.4-.92-.59-1.43-.59-.52 0-1.04.2-1.43.59L10.3 9.45l-7.72 7.72c-.78.78-.78 2.05 0 2.83L4 21.41c.39.39.9.59 1.41.59.51 0 1.02-.2 1.41-.59l7.78-7.78 2.81-2.81c.8-.78.8-2.07 0-2.86zM5.41 20L4 18.59l7.72-7.72 1.47 1.35L5.41 20z\"/>\n",
              "  </svg>\n",
              "      </button>\n",
              "      \n",
              "  <style>\n",
              "    .colab-df-container {\n",
              "      display:flex;\n",
              "      flex-wrap:wrap;\n",
              "      gap: 12px;\n",
              "    }\n",
              "\n",
              "    .colab-df-convert {\n",
              "      background-color: #E8F0FE;\n",
              "      border: none;\n",
              "      border-radius: 50%;\n",
              "      cursor: pointer;\n",
              "      display: none;\n",
              "      fill: #1967D2;\n",
              "      height: 32px;\n",
              "      padding: 0 0 0 0;\n",
              "      width: 32px;\n",
              "    }\n",
              "\n",
              "    .colab-df-convert:hover {\n",
              "      background-color: #E2EBFA;\n",
              "      box-shadow: 0px 1px 2px rgba(60, 64, 67, 0.3), 0px 1px 3px 1px rgba(60, 64, 67, 0.15);\n",
              "      fill: #174EA6;\n",
              "    }\n",
              "\n",
              "    [theme=dark] .colab-df-convert {\n",
              "      background-color: #3B4455;\n",
              "      fill: #D2E3FC;\n",
              "    }\n",
              "\n",
              "    [theme=dark] .colab-df-convert:hover {\n",
              "      background-color: #434B5C;\n",
              "      box-shadow: 0px 1px 3px 1px rgba(0, 0, 0, 0.15);\n",
              "      filter: drop-shadow(0px 1px 2px rgba(0, 0, 0, 0.3));\n",
              "      fill: #FFFFFF;\n",
              "    }\n",
              "  </style>\n",
              "\n",
              "      <script>\n",
              "        const buttonEl =\n",
              "          document.querySelector('#df-300176e3-3b79-4f5e-8f40-8b9dfaa41eb1 button.colab-df-convert');\n",
              "        buttonEl.style.display =\n",
              "          google.colab.kernel.accessAllowed ? 'block' : 'none';\n",
              "\n",
              "        async function convertToInteractive(key) {\n",
              "          const element = document.querySelector('#df-300176e3-3b79-4f5e-8f40-8b9dfaa41eb1');\n",
              "          const dataTable =\n",
              "            await google.colab.kernel.invokeFunction('convertToInteractive',\n",
              "                                                     [key], {});\n",
              "          if (!dataTable) return;\n",
              "\n",
              "          const docLinkHtml = 'Like what you see? Visit the ' +\n",
              "            '<a target=\"_blank\" href=https://colab.research.google.com/notebooks/data_table.ipynb>data table notebook</a>'\n",
              "            + ' to learn more about interactive tables.';\n",
              "          element.innerHTML = '';\n",
              "          dataTable['output_type'] = 'display_data';\n",
              "          await google.colab.output.renderOutput(dataTable, element);\n",
              "          const docLink = document.createElement('div');\n",
              "          docLink.innerHTML = docLinkHtml;\n",
              "          element.appendChild(docLink);\n",
              "        }\n",
              "      </script>\n",
              "    </div>\n",
              "  </div>\n",
              "  "
            ]
          },
          "metadata": {},
          "execution_count": 27
        }
      ]
    },
    {
      "cell_type": "code",
      "source": [
        "probs[0] # predictions"
      ],
      "metadata": {
        "id": "pj6kDuqa3DnM",
        "colab": {
          "base_uri": "https://localhost:8080/"
        },
        "outputId": "97734bad-8876-4b0c-f34d-b46bfebf45d8"
      },
      "execution_count": 39,
      "outputs": [
        {
          "output_type": "execute_result",
          "data": {
            "text/plain": [
              "array([0., 1., 0., 0., 0., 0., 1., 1., 0., 1.], dtype=float32)"
            ]
          },
          "metadata": {},
          "execution_count": 39
        }
      ]
    },
    {
      "cell_type": "markdown",
      "source": [
        "## Logistic Regression to see if More Accurate than NN on Tabular Data"
      ],
      "metadata": {
        "id": "Y0ZndsctQkG7"
      }
    },
    {
      "cell_type": "code",
      "source": [
        "# year, IMDB Score, number of actors, avg actor_age , male:female actor ratio\n",
        "#tabular[0]\n",
        "y[0]"
      ],
      "metadata": {
        "colab": {
          "base_uri": "https://localhost:8080/"
        },
        "id": "bIOzD7hfQjN3",
        "outputId": "f9ebf9b6-3b75-48e2-dafc-7d8c8632519e"
      },
      "execution_count": 43,
      "outputs": [
        {
          "output_type": "execute_result",
          "data": {
            "text/plain": [
              "tensor([1., 0., 0., 0., 0., 0., 0., 1., 1., 0.], device='cuda:0')"
            ]
          },
          "metadata": {},
          "execution_count": 43
        }
      ]
    },
    {
      "cell_type": "code",
      "source": [
        "import matplotlib.pyplot as plt\n",
        "import numpy as np\n",
        "from sklearn.datasets import make_blobs\n",
        "from sklearn.multioutput import MultiOutputClassifier\n",
        "from sklearn.svm import LinearSVC\n",
        "from sklearn.model_selection import train_test_split\n",
        "from sklearn.metrics import multilabel_confusion_matrix, ConfusionMatrixDisplay"
      ],
      "metadata": {
        "id": "Afb-7nNVTiXf"
      },
      "execution_count": 50,
      "outputs": []
    },
    {
      "cell_type": "code",
      "source": [
        "y = list(wiki['label'])\n",
        "\n",
        "tabular = list(wiki['tabular_input'])\n",
        "\n",
        "y_train, y_valid = train_test_split(y, test_size=0.2, random_state=1)\n",
        "#posters_train, posters_valid = train_test_split(posters, test_size=0.2, random_state=1)\n",
        "tabular_train, tabular_valid = train_test_split(tabular, test_size=0.2, random_state=1)"
      ],
      "metadata": {
        "id": "klmFIOQxTiZd"
      },
      "execution_count": 47,
      "outputs": []
    },
    {
      "cell_type": "code",
      "source": [
        "# Create the SVM\n",
        "svm = LinearSVC(C=10, random_state=42)\n",
        "\n",
        "# Make it an Multilabel classifier\n",
        "multilabel_classifier = MultiOutputClassifier(svm, n_jobs=-1)\n",
        "\n",
        "# Fit the data to the Multilabel classifier\n",
        "multilabel_classifier = multilabel_classifier.fit(tabular_train, y_train)\n",
        "\n",
        "# Get predictions for test data\n",
        "y_test_pred = multilabel_classifier.predict(tabular_valid)\n",
        "\n",
        "# Generate multiclass confusion matrices\n",
        "matrices = multilabel_confusion_matrix(y_valid, y_test_pred)\n",
        "\n",
        "# Plotting matrices: code\n",
        "cmd = ConfusionMatrixDisplay(matrices[0], display_labels=np.unique(y_valid)).plot()\n",
        "plt.title(f'Confusion Matrix for label {genres_i[0]} (type)')\n",
        "plt.show()\n",
        "cmd = ConfusionMatrixDisplay(matrices[1], display_labels=np.unique(y_valid)).plot()\n",
        "plt.title(f'Confusion Matrix for label {genres_i[1]}')\n",
        "plt.show()\n",
        "cmd = ConfusionMatrixDisplay(matrices[2], display_labels=np.unique(y_valid)).plot()\n",
        "plt.title(f'Confusion Matrix for label {genres_i[2]}')\n",
        "plt.show()\n",
        "cmd = ConfusionMatrixDisplay(matrices[3], display_labels=np.unique(y_valid)).plot()\n",
        "plt.title(f'Confusion Matrix for label {genres_i[3]}')\n",
        "plt.show()\n",
        "cmd = ConfusionMatrixDisplay(matrices[4], display_labels=np.unique(y_valid)).plot()\n",
        "plt.title(f'Confusion Matrix for label {genres_i[4]}')\n",
        "plt.show()\n",
        "cmd = ConfusionMatrixDisplay(matrices[5], display_labels=np.unique(y_valid)).plot()\n",
        "plt.title(f'Confusion Matrix for label {genres_i[5]}')\n",
        "plt.show()\n",
        "cmd = ConfusionMatrixDisplay(matrices[6], display_labels=np.unique(y_valid)).plot()\n",
        "plt.title(f'Confusion Matrix for label {genres_i[6]}')\n",
        "plt.show()\n",
        "cmd = ConfusionMatrixDisplay(matrices[7], display_labels=np.unique(y_valid)).plot()\n",
        "plt.title(f'Confusion Matrix for label {genres_i[7]}')\n",
        "plt.show()\n",
        "cmd = ConfusionMatrixDisplay(matrices[8], display_labels=np.unique(y_valid)).plot()\n",
        "plt.title(f'Confusion Matrix for label {genres_i[8]}')\n",
        "plt.show()\n",
        "cmd = ConfusionMatrixDisplay(matrices[9], display_labels=np.unique(y_valid)).plot()\n",
        "plt.title(f'Confusion Matrix for label {genres_i[9]}')\n",
        "plt.show()"
      ],
      "metadata": {
        "colab": {
          "base_uri": "https://localhost:8080/",
          "height": 1000
        },
        "id": "zr9rZ-ZiTiby",
        "outputId": "c66508a7-a7c9-4bd6-8b34-e79026eed09b"
      },
      "execution_count": 55,
      "outputs": [
        {
          "output_type": "display_data",
          "data": {
            "text/plain": [
              "<Figure size 432x288 with 2 Axes>"
            ],
            "image/png": "[encoded data removed]"
          },
          "metadata": {
            "needs_background": "light"
          }
        },
        {
          "output_type": "display_data",
          "data": {
            "text/plain": [
              "<Figure size 432x288 with 2 Axes>"
            ],
            "image/png": "[encoded data removed]"
          },
          "metadata": {
            "needs_background": "light"
          }
        },
        {
          "output_type": "display_data",
          "data": {
            "text/plain": [
              "<Figure size 432x288 with 2 Axes>"
            ],
            "image/png": "[encoded data removed]"
          },
          "metadata": {
            "needs_background": "light"
          }
        },
        {
          "output_type": "display_data",
          "data": {
            "text/plain": [
              "<Figure size 432x288 with 2 Axes>"
            ],
            "image/png": "[encoded data removed]"
          },
          "metadata": {
            "needs_background": "light"
          }
        },
        {
          "output_type": "display_data",
          "data": {
            "text/plain": [
              "<Figure size 432x288 with 2 Axes>"
            ],
            "image/png": "[encoded data removed]"
          },
          "metadata": {
            "needs_background": "light"
          }
        },
        {
          "output_type": "display_data",
          "data": {
            "text/plain": [
              "<Figure size 432x288 with 2 Axes>"
            ],
            "image/png": "[encoded data removed]"
          },
          "metadata": {
            "needs_background": "light"
          }
        },
        {
          "output_type": "display_data",
          "data": {
            "text/plain": [
              "<Figure size 432x288 with 2 Axes>"
            ],
            "image/png": "[encoded data removed]"
          },
          "metadata": {
            "needs_background": "light"
          }
        },
        {
          "output_type": "display_data",
          "data": {
            "text/plain": [
              "<Figure size 432x288 with 2 Axes>"
            ],
            "image/png": "[encoded data removed]"
          },
          "metadata": {
            "needs_background": "light"
          }
        },
        {
          "output_type": "display_data",
          "data": {
            "text/plain": [
              "<Figure size 432x288 with 2 Axes>"
            ],
            "image/png": "[encoded data removed]"
          },
          "metadata": {
            "needs_background": "light"
          }
        },
        {
          "output_type": "display_data",
          "data": {
            "text/plain": [
              "<Figure size 432x288 with 2 Axes>"
            ],
            "image/png": "[encoded data removed]"
          },
          "metadata": {
            "needs_background": "light"
          }
        }
      ]
    },
    {
      "cell_type": "code",
      "source": [
        ""
      ],
      "metadata": {
        "id": "yaNgZHNoTid5"
      },
      "execution_count": null,
      "outputs": []
    }
  ]
}