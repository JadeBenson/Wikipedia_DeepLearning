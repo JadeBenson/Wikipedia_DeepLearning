{
  "nbformat": 4,
  "nbformat_minor": 0,
  "metadata": {
    "colab": {
      "name": "Final_Project_EDA.ipynb",
      "provenance": [],
      "collapsed_sections": [],
      "authorship_tag": "ABX9TyNHmSTKArU4hBqkTXetkJDO",
      "include_colab_link": true
    },
    "kernelspec": {
      "name": "python3",
      "display_name": "Python 3"
    },
    "language_info": {
      "name": "python"
    }
  },
  "cells": [
    {
      "cell_type": "markdown",
      "metadata": {
        "id": "view-in-github",
        "colab_type": "text"
      },
      "source": [
        "<a href=\"https://colab.research.google.com/github/JadeBenson/Wikipedia_DeepLearning/blob/main/bechdel_EDA.ipynb\" target=\"_parent\"><img src=\"https://colab.research.google.com/assets/colab-badge.svg\" alt=\"Open In Colab\"/></a>"
      ]
    },
    {
      "cell_type": "code",
      "execution_count": null,
      "metadata": {
        "id": "kNSXqCH8gpFC"
      },
      "outputs": [],
      "source": [
        "import pandas as pd"
      ]
    },
    {
      "cell_type": "code",
      "source": [
        "bechdel_movies = pd.read_csv(\"small_matched_bechdel.csv\", index_col=0, usecols = ['wiki_ID', 'freebase_ID', 'title_x', 'date', 'revenue', 'genres', 'match_title', 'Title', 'IMDB Score', 'Genre', 'plot_x', 'year', 'title_y', 'budget', 'domgross', 'intgross', 'budget_2013', 'domgross_2013', 'intgross_2013', 'imdb_id', 'plot_y', 'writer', 'binary', 'imdb_rating', 'director', 'released', 'actors', 'genre']).drop_duplicates().reset_index()"
      ],
      "metadata": {
        "id": "tOFhHA9Lg05X"
      },
      "execution_count": null,
      "outputs": []
    },
    {
      "cell_type": "code",
      "source": [
        "bechdel_movies"
      ],
      "metadata": {
        "colab": {
          "base_uri": "https://localhost:8080/",
          "height": 1000
        },
        "id": "LJKgXSTW-xo5",
        "outputId": "859121e7-d646-456c-9bba-cb775906dbf0"
      },
      "execution_count": null,
      "outputs": [
        {
          "output_type": "execute_result",
          "data": {
            "text/plain": [
              "       wiki_ID freebase_ID                    title_x        date  \\\n",
              "0     18998739  /m/04jcqvw  The Sorcerer's Apprentice        2002   \n",
              "1     12621957  /m/05pdd86  The Sorcerer's Apprentice  2010-07-08   \n",
              "2       171005   /m/016ywb                    Henry V  1989-11-08   \n",
              "3        80493    /m/0ktqc                    Henry V        1944   \n",
              "4     28271896  /m/0cp0zcq                    The Net  1953-11-05   \n",
              "...        ...         ...                        ...         ...   \n",
              "1973   1138104   /m/049kmb      Beverly Hills Cop III  1994-05-25   \n",
              "1974   3592692   /m/09nl36                 Inside Man  2006-03-16   \n",
              "1975    883432   /m/03ljpk      Gone in Sixty Seconds        2000   \n",
              "1976  10149834  /m/02q3fdr                      Ponyo  2008-07-19   \n",
              "1977  25920477  /m/0b6lqyd                Source Code  2011-03-11   \n",
              "\n",
              "          revenue                                             genres  \\\n",
              "0             NaN  {\"/m/0hqxf\": \"Family Film\", \"/m/01hmnh\": \"Fant...   \n",
              "1     215283742.0  {\"/m/06n90\": \"Science Fiction\", \"/m/03k9fj\": \"...   \n",
              "2      10161099.0  {\"/m/04xvh5\": \"Costume drama\", \"/m/082gq\": \"Wa...   \n",
              "3             NaN  {\"/m/04xvh5\": \"Costume drama\", \"/m/0520lz\": \"R...   \n",
              "4             NaN                            {\"/m/07s9rl0\": \"Drama\"}   \n",
              "...           ...                                                ...   \n",
              "1973  119208989.0  {\"/m/0lsxr\": \"Crime Fiction\", \"/m/0556j8\": \"Bu...   \n",
              "1974          NaN  {\"/m/01jfsb\": \"Thriller\", \"/m/0lsxr\": \"Crime F...   \n",
              "1975  237202298.0  {\"/m/0lsxr\": \"Crime Fiction\", \"/m/01jfsb\": \"Th...   \n",
              "1976  202614288.0  {\"/m/0gw5n2f\": \"Japanese Movies\", \"/m/03k9fj\":...   \n",
              "1977  147332697.0  {\"/m/01jfsb\": \"Thriller\", \"/m/06n90\": \"Science...   \n",
              "\n",
              "                 match_title                             Title  IMDB Score  \\\n",
              "0     thesorcerersapprentice  The Sorcerer's Apprentice (2010)         6.1   \n",
              "1     thesorcerersapprentice  The Sorcerer's Apprentice (2010)         6.1   \n",
              "2                     henryv                    Henry V (1989)         7.7   \n",
              "3                     henryv                    Henry V (1989)         7.7   \n",
              "4                     thenet                    The Net (1995)         5.9   \n",
              "...                      ...                               ...         ...   \n",
              "1973      beverlyhillscopiii      Beverly Hills Cop III (1994)         5.5   \n",
              "1974               insideman                 Inside Man (2006)         7.6   \n",
              "1975      goneinsixtyseconds      Gone in Sixty Seconds (2000)         6.5   \n",
              "1976                   ponyo                      Ponyo (2008)         7.7   \n",
              "1977              sourcecode                Source Code (2011)         7.5   \n",
              "\n",
              "                           Genre  ... domgross_2013  intgross_2013 imdb_id  \\\n",
              "0        Action|Adventure|Family  ...    67459899.0    229831139.0  963966   \n",
              "1        Action|Adventure|Family  ...    67459899.0    229831139.0  963966   \n",
              "2         Action|Biography|Drama  ...    19098688.0     19098688.0   97499   \n",
              "3         Action|Biography|Drama  ...    19098688.0     19098688.0   97499   \n",
              "4             Action|Crime|Drama  ...    77389465.0    168963355.0  113957   \n",
              "...                          ...  ...           ...            ...     ...   \n",
              "1973         Action|Comedy|Crime  ...    66932266.0    187312473.0  109254   \n",
              "1974         Crime|Drama|Mystery  ...   102443127.0    213399577.0  454848   \n",
              "1975       Action|Crime|Thriller  ...   137513677.0    314744675.0  187078   \n",
              "1976  Animation|Adventure|Comedy  ...    16331680.0    222200929.0  876563   \n",
              "1977      Mystery|Romance|Sci-Fi  ...    56664949.0    145440503.0  945513   \n",
              "\n",
              "                                                 plot_y  \\\n",
              "0                                                   NaN   \n",
              "1                                                   NaN   \n",
              "2     The gritty adaption of William Shakespeare's p...   \n",
              "3     The gritty adaption of William Shakespeare's p...   \n",
              "4     A computer programmer stumbles upon a conspira...   \n",
              "...                                                 ...   \n",
              "1973  Axel Foley, while investigating a car theft ri...   \n",
              "1974  A police detective, a bank robber, and a high-...   \n",
              "1975  A retired master car thief must come back to t...   \n",
              "1976                                                NaN   \n",
              "1977  An action thriller centered on a soldier who w...   \n",
              "\n",
              "                                                 writer  imdb_rating  \\\n",
              "0                                                   NaN          NaN   \n",
              "1                                                   NaN          NaN   \n",
              "2     William Shakespeare (by), Kenneth Branagh (ada...          7.8   \n",
              "3     William Shakespeare (by), Kenneth Branagh (ada...          7.8   \n",
              "4                      John D. Brancato, Michael Ferris          5.8   \n",
              "...                                                 ...          ...   \n",
              "1973  Danilo Bach (character), Daniel Petrie Jr. (ch...          5.4   \n",
              "1974                                    Russell Gewirtz          7.7   \n",
              "1975         H.B. Halicki, Scott Rosenberg (screenplay)          6.4   \n",
              "1976                                                NaN          NaN   \n",
              "1977                                         Ben Ripley          7.5   \n",
              "\n",
              "             director     released  \\\n",
              "0                 NaN          NaN   \n",
              "1                 NaN          NaN   \n",
              "2     Kenneth Branagh  08 Nov 1989   \n",
              "3     Kenneth Branagh  08 Nov 1989   \n",
              "4       Irwin Winkler  28 Jul 1995   \n",
              "...               ...          ...   \n",
              "1973      John Landis  25 May 1994   \n",
              "1974        Spike Lee  24 Mar 2006   \n",
              "1975     Dominic Sena  09 Jun 2000   \n",
              "1976              NaN          NaN   \n",
              "1977     Duncan Jones  01 Apr 2011   \n",
              "\n",
              "                                                 actors  \\\n",
              "0                                                   NaN   \n",
              "1                                                   NaN   \n",
              "2     Derek Jacobi, Kenneth Branagh, Simon Shepherd,...   \n",
              "3     Derek Jacobi, Kenneth Branagh, Simon Shepherd,...   \n",
              "4     Sandra Bullock, Jeremy Northam, Dennis Miller,...   \n",
              "...                                                 ...   \n",
              "1973  Eddie Murphy, Jon Tenney, Joey Travolta, Eugen...   \n",
              "1974  Denzel Washington, Clive Owen, Jodie Foster, C...   \n",
              "1975  Nicolas Cage, Giovanni Ribisi, Angelina Jolie,...   \n",
              "1976                                                NaN   \n",
              "1977  Jake Gyllenhaal, Michelle Monaghan, Vera Farmi...   \n",
              "\n",
              "                          genre  \n",
              "0                           NaN  \n",
              "1                           NaN  \n",
              "2      Action, Biography, Drama  \n",
              "3      Action, Biography, Drama  \n",
              "4          Action, Crime, Drama  \n",
              "...                         ...  \n",
              "1973      Action, Comedy, Crime  \n",
              "1974     Crime, Drama, Thriller  \n",
              "1975    Action, Crime, Thriller  \n",
              "1976                        NaN  \n",
              "1977  Mystery, Sci-Fi, Thriller  \n",
              "\n",
              "[1978 rows x 28 columns]"
            ],
            "text/html": [
              "\n",
              "  <div id=\"df-5d3309c8-8c6f-46cf-857b-78274c561a2d\">\n",
              "    <div class=\"colab-df-container\">\n",
              "      <div>\n",
              "<style scoped>\n",
              "    .dataframe tbody tr th:only-of-type {\n",
              "        vertical-align: middle;\n",
              "    }\n",
              "\n",
              "    .dataframe tbody tr th {\n",
              "        vertical-align: top;\n",
              "    }\n",
              "\n",
              "    .dataframe thead th {\n",
              "        text-align: right;\n",
              "    }\n",
              "</style>\n",
              "<table border=\"1\" class=\"dataframe\">\n",
              "  <thead>\n",
              "    <tr style=\"text-align: right;\">\n",
              "      <th></th>\n",
              "      <th>wiki_ID</th>\n",
              "      <th>freebase_ID</th>\n",
              "      <th>title_x</th>\n",
              "      <th>date</th>\n",
              "      <th>revenue</th>\n",
              "      <th>genres</th>\n",
              "      <th>match_title</th>\n",
              "      <th>Title</th>\n",
              "      <th>IMDB Score</th>\n",
              "      <th>Genre</th>\n",
              "      <th>...</th>\n",
              "      <th>domgross_2013</th>\n",
              "      <th>intgross_2013</th>\n",
              "      <th>imdb_id</th>\n",
              "      <th>plot_y</th>\n",
              "      <th>writer</th>\n",
              "      <th>imdb_rating</th>\n",
              "      <th>director</th>\n",
              "      <th>released</th>\n",
              "      <th>actors</th>\n",
              "      <th>genre</th>\n",
              "    </tr>\n",
              "  </thead>\n",
              "  <tbody>\n",
              "    <tr>\n",
              "      <th>0</th>\n",
              "      <td>18998739</td>\n",
              "      <td>/m/04jcqvw</td>\n",
              "      <td>The Sorcerer's Apprentice</td>\n",
              "      <td>2002</td>\n",
              "      <td>NaN</td>\n",
              "      <td>{\"/m/0hqxf\": \"Family Film\", \"/m/01hmnh\": \"Fant...</td>\n",
              "      <td>thesorcerersapprentice</td>\n",
              "      <td>The Sorcerer's Apprentice (2010)</td>\n",
              "      <td>6.1</td>\n",
              "      <td>Action|Adventure|Family</td>\n",
              "      <td>...</td>\n",
              "      <td>67459899.0</td>\n",
              "      <td>229831139.0</td>\n",
              "      <td>963966</td>\n",
              "      <td>NaN</td>\n",
              "      <td>NaN</td>\n",
              "      <td>NaN</td>\n",
              "      <td>NaN</td>\n",
              "      <td>NaN</td>\n",
              "      <td>NaN</td>\n",
              "      <td>NaN</td>\n",
              "    </tr>\n",
              "    <tr>\n",
              "      <th>1</th>\n",
              "      <td>12621957</td>\n",
              "      <td>/m/05pdd86</td>\n",
              "      <td>The Sorcerer's Apprentice</td>\n",
              "      <td>2010-07-08</td>\n",
              "      <td>215283742.0</td>\n",
              "      <td>{\"/m/06n90\": \"Science Fiction\", \"/m/03k9fj\": \"...</td>\n",
              "      <td>thesorcerersapprentice</td>\n",
              "      <td>The Sorcerer's Apprentice (2010)</td>\n",
              "      <td>6.1</td>\n",
              "      <td>Action|Adventure|Family</td>\n",
              "      <td>...</td>\n",
              "      <td>67459899.0</td>\n",
              "      <td>229831139.0</td>\n",
              "      <td>963966</td>\n",
              "      <td>NaN</td>\n",
              "      <td>NaN</td>\n",
              "      <td>NaN</td>\n",
              "      <td>NaN</td>\n",
              "      <td>NaN</td>\n",
              "      <td>NaN</td>\n",
              "      <td>NaN</td>\n",
              "    </tr>\n",
              "    <tr>\n",
              "      <th>2</th>\n",
              "      <td>171005</td>\n",
              "      <td>/m/016ywb</td>\n",
              "      <td>Henry V</td>\n",
              "      <td>1989-11-08</td>\n",
              "      <td>10161099.0</td>\n",
              "      <td>{\"/m/04xvh5\": \"Costume drama\", \"/m/082gq\": \"Wa...</td>\n",
              "      <td>henryv</td>\n",
              "      <td>Henry V (1989)</td>\n",
              "      <td>7.7</td>\n",
              "      <td>Action|Biography|Drama</td>\n",
              "      <td>...</td>\n",
              "      <td>19098688.0</td>\n",
              "      <td>19098688.0</td>\n",
              "      <td>97499</td>\n",
              "      <td>The gritty adaption of William Shakespeare's p...</td>\n",
              "      <td>William Shakespeare (by), Kenneth Branagh (ada...</td>\n",
              "      <td>7.8</td>\n",
              "      <td>Kenneth Branagh</td>\n",
              "      <td>08 Nov 1989</td>\n",
              "      <td>Derek Jacobi, Kenneth Branagh, Simon Shepherd,...</td>\n",
              "      <td>Action, Biography, Drama</td>\n",
              "    </tr>\n",
              "    <tr>\n",
              "      <th>3</th>\n",
              "      <td>80493</td>\n",
              "      <td>/m/0ktqc</td>\n",
              "      <td>Henry V</td>\n",
              "      <td>1944</td>\n",
              "      <td>NaN</td>\n",
              "      <td>{\"/m/04xvh5\": \"Costume drama\", \"/m/0520lz\": \"R...</td>\n",
              "      <td>henryv</td>\n",
              "      <td>Henry V (1989)</td>\n",
              "      <td>7.7</td>\n",
              "      <td>Action|Biography|Drama</td>\n",
              "      <td>...</td>\n",
              "      <td>19098688.0</td>\n",
              "      <td>19098688.0</td>\n",
              "      <td>97499</td>\n",
              "      <td>The gritty adaption of William Shakespeare's p...</td>\n",
              "      <td>William Shakespeare (by), Kenneth Branagh (ada...</td>\n",
              "      <td>7.8</td>\n",
              "      <td>Kenneth Branagh</td>\n",
              "      <td>08 Nov 1989</td>\n",
              "      <td>Derek Jacobi, Kenneth Branagh, Simon Shepherd,...</td>\n",
              "      <td>Action, Biography, Drama</td>\n",
              "    </tr>\n",
              "    <tr>\n",
              "      <th>4</th>\n",
              "      <td>28271896</td>\n",
              "      <td>/m/0cp0zcq</td>\n",
              "      <td>The Net</td>\n",
              "      <td>1953-11-05</td>\n",
              "      <td>NaN</td>\n",
              "      <td>{\"/m/07s9rl0\": \"Drama\"}</td>\n",
              "      <td>thenet</td>\n",
              "      <td>The Net (1995)</td>\n",
              "      <td>5.9</td>\n",
              "      <td>Action|Crime|Drama</td>\n",
              "      <td>...</td>\n",
              "      <td>77389465.0</td>\n",
              "      <td>168963355.0</td>\n",
              "      <td>113957</td>\n",
              "      <td>A computer programmer stumbles upon a conspira...</td>\n",
              "      <td>John D. Brancato, Michael Ferris</td>\n",
              "      <td>5.8</td>\n",
              "      <td>Irwin Winkler</td>\n",
              "      <td>28 Jul 1995</td>\n",
              "      <td>Sandra Bullock, Jeremy Northam, Dennis Miller,...</td>\n",
              "      <td>Action, Crime, Drama</td>\n",
              "    </tr>\n",
              "    <tr>\n",
              "      <th>...</th>\n",
              "      <td>...</td>\n",
              "      <td>...</td>\n",
              "      <td>...</td>\n",
              "      <td>...</td>\n",
              "      <td>...</td>\n",
              "      <td>...</td>\n",
              "      <td>...</td>\n",
              "      <td>...</td>\n",
              "      <td>...</td>\n",
              "      <td>...</td>\n",
              "      <td>...</td>\n",
              "      <td>...</td>\n",
              "      <td>...</td>\n",
              "      <td>...</td>\n",
              "      <td>...</td>\n",
              "      <td>...</td>\n",
              "      <td>...</td>\n",
              "      <td>...</td>\n",
              "      <td>...</td>\n",
              "      <td>...</td>\n",
              "      <td>...</td>\n",
              "    </tr>\n",
              "    <tr>\n",
              "      <th>1973</th>\n",
              "      <td>1138104</td>\n",
              "      <td>/m/049kmb</td>\n",
              "      <td>Beverly Hills Cop III</td>\n",
              "      <td>1994-05-25</td>\n",
              "      <td>119208989.0</td>\n",
              "      <td>{\"/m/0lsxr\": \"Crime Fiction\", \"/m/0556j8\": \"Bu...</td>\n",
              "      <td>beverlyhillscopiii</td>\n",
              "      <td>Beverly Hills Cop III (1994)</td>\n",
              "      <td>5.5</td>\n",
              "      <td>Action|Comedy|Crime</td>\n",
              "      <td>...</td>\n",
              "      <td>66932266.0</td>\n",
              "      <td>187312473.0</td>\n",
              "      <td>109254</td>\n",
              "      <td>Axel Foley, while investigating a car theft ri...</td>\n",
              "      <td>Danilo Bach (character), Daniel Petrie Jr. (ch...</td>\n",
              "      <td>5.4</td>\n",
              "      <td>John Landis</td>\n",
              "      <td>25 May 1994</td>\n",
              "      <td>Eddie Murphy, Jon Tenney, Joey Travolta, Eugen...</td>\n",
              "      <td>Action, Comedy, Crime</td>\n",
              "    </tr>\n",
              "    <tr>\n",
              "      <th>1974</th>\n",
              "      <td>3592692</td>\n",
              "      <td>/m/09nl36</td>\n",
              "      <td>Inside Man</td>\n",
              "      <td>2006-03-16</td>\n",
              "      <td>NaN</td>\n",
              "      <td>{\"/m/01jfsb\": \"Thriller\", \"/m/0lsxr\": \"Crime F...</td>\n",
              "      <td>insideman</td>\n",
              "      <td>Inside Man (2006)</td>\n",
              "      <td>7.6</td>\n",
              "      <td>Crime|Drama|Mystery</td>\n",
              "      <td>...</td>\n",
              "      <td>102443127.0</td>\n",
              "      <td>213399577.0</td>\n",
              "      <td>454848</td>\n",
              "      <td>A police detective, a bank robber, and a high-...</td>\n",
              "      <td>Russell Gewirtz</td>\n",
              "      <td>7.7</td>\n",
              "      <td>Spike Lee</td>\n",
              "      <td>24 Mar 2006</td>\n",
              "      <td>Denzel Washington, Clive Owen, Jodie Foster, C...</td>\n",
              "      <td>Crime, Drama, Thriller</td>\n",
              "    </tr>\n",
              "    <tr>\n",
              "      <th>1975</th>\n",
              "      <td>883432</td>\n",
              "      <td>/m/03ljpk</td>\n",
              "      <td>Gone in Sixty Seconds</td>\n",
              "      <td>2000</td>\n",
              "      <td>237202298.0</td>\n",
              "      <td>{\"/m/0lsxr\": \"Crime Fiction\", \"/m/01jfsb\": \"Th...</td>\n",
              "      <td>goneinsixtyseconds</td>\n",
              "      <td>Gone in Sixty Seconds (2000)</td>\n",
              "      <td>6.5</td>\n",
              "      <td>Action|Crime|Thriller</td>\n",
              "      <td>...</td>\n",
              "      <td>137513677.0</td>\n",
              "      <td>314744675.0</td>\n",
              "      <td>187078</td>\n",
              "      <td>A retired master car thief must come back to t...</td>\n",
              "      <td>H.B. Halicki, Scott Rosenberg (screenplay)</td>\n",
              "      <td>6.4</td>\n",
              "      <td>Dominic Sena</td>\n",
              "      <td>09 Jun 2000</td>\n",
              "      <td>Nicolas Cage, Giovanni Ribisi, Angelina Jolie,...</td>\n",
              "      <td>Action, Crime, Thriller</td>\n",
              "    </tr>\n",
              "    <tr>\n",
              "      <th>1976</th>\n",
              "      <td>10149834</td>\n",
              "      <td>/m/02q3fdr</td>\n",
              "      <td>Ponyo</td>\n",
              "      <td>2008-07-19</td>\n",
              "      <td>202614288.0</td>\n",
              "      <td>{\"/m/0gw5n2f\": \"Japanese Movies\", \"/m/03k9fj\":...</td>\n",
              "      <td>ponyo</td>\n",
              "      <td>Ponyo (2008)</td>\n",
              "      <td>7.7</td>\n",
              "      <td>Animation|Adventure|Comedy</td>\n",
              "      <td>...</td>\n",
              "      <td>16331680.0</td>\n",
              "      <td>222200929.0</td>\n",
              "      <td>876563</td>\n",
              "      <td>NaN</td>\n",
              "      <td>NaN</td>\n",
              "      <td>NaN</td>\n",
              "      <td>NaN</td>\n",
              "      <td>NaN</td>\n",
              "      <td>NaN</td>\n",
              "      <td>NaN</td>\n",
              "    </tr>\n",
              "    <tr>\n",
              "      <th>1977</th>\n",
              "      <td>25920477</td>\n",
              "      <td>/m/0b6lqyd</td>\n",
              "      <td>Source Code</td>\n",
              "      <td>2011-03-11</td>\n",
              "      <td>147332697.0</td>\n",
              "      <td>{\"/m/01jfsb\": \"Thriller\", \"/m/06n90\": \"Science...</td>\n",
              "      <td>sourcecode</td>\n",
              "      <td>Source Code (2011)</td>\n",
              "      <td>7.5</td>\n",
              "      <td>Mystery|Romance|Sci-Fi</td>\n",
              "      <td>...</td>\n",
              "      <td>56664949.0</td>\n",
              "      <td>145440503.0</td>\n",
              "      <td>945513</td>\n",
              "      <td>An action thriller centered on a soldier who w...</td>\n",
              "      <td>Ben Ripley</td>\n",
              "      <td>7.5</td>\n",
              "      <td>Duncan Jones</td>\n",
              "      <td>01 Apr 2011</td>\n",
              "      <td>Jake Gyllenhaal, Michelle Monaghan, Vera Farmi...</td>\n",
              "      <td>Mystery, Sci-Fi, Thriller</td>\n",
              "    </tr>\n",
              "  </tbody>\n",
              "</table>\n",
              "<p>1978 rows × 28 columns</p>\n",
              "</div>\n",
              "      <button class=\"colab-df-convert\" onclick=\"convertToInteractive('df-5d3309c8-8c6f-46cf-857b-78274c561a2d')\"\n",
              "              title=\"Convert this dataframe to an interactive table.\"\n",
              "              style=\"display:none;\">\n",
              "        \n",
              "  <svg xmlns=\"http://www.w3.org/2000/svg\" height=\"24px\"viewBox=\"0 0 24 24\"\n",
              "       width=\"24px\">\n",
              "    <path d=\"M0 0h24v24H0V0z\" fill=\"none\"/>\n",
              "    <path d=\"M18.56 5.44l.94 2.06.94-2.06 2.06-.94-2.06-.94-.94-2.06-.94 2.06-2.06.94zm-11 1L8.5 8.5l.94-2.06 2.06-.94-2.06-.94L8.5 2.5l-.94 2.06-2.06.94zm10 10l.94 2.06.94-2.06 2.06-.94-2.06-.94-.94-2.06-.94 2.06-2.06.94z\"/><path d=\"M17.41 7.96l-1.37-1.37c-.4-.4-.92-.59-1.43-.59-.52 0-1.04.2-1.43.59L10.3 9.45l-7.72 7.72c-.78.78-.78 2.05 0 2.83L4 21.41c.39.39.9.59 1.41.59.51 0 1.02-.2 1.41-.59l7.78-7.78 2.81-2.81c.8-.78.8-2.07 0-2.86zM5.41 20L4 18.59l7.72-7.72 1.47 1.35L5.41 20z\"/>\n",
              "  </svg>\n",
              "      </button>\n",
              "      \n",
              "  <style>\n",
              "    .colab-df-container {\n",
              "      display:flex;\n",
              "      flex-wrap:wrap;\n",
              "      gap: 12px;\n",
              "    }\n",
              "\n",
              "    .colab-df-convert {\n",
              "      background-color: #E8F0FE;\n",
              "      border: none;\n",
              "      border-radius: 50%;\n",
              "      cursor: pointer;\n",
              "      display: none;\n",
              "      fill: #1967D2;\n",
              "      height: 32px;\n",
              "      padding: 0 0 0 0;\n",
              "      width: 32px;\n",
              "    }\n",
              "\n",
              "    .colab-df-convert:hover {\n",
              "      background-color: #E2EBFA;\n",
              "      box-shadow: 0px 1px 2px rgba(60, 64, 67, 0.3), 0px 1px 3px 1px rgba(60, 64, 67, 0.15);\n",
              "      fill: #174EA6;\n",
              "    }\n",
              "\n",
              "    [theme=dark] .colab-df-convert {\n",
              "      background-color: #3B4455;\n",
              "      fill: #D2E3FC;\n",
              "    }\n",
              "\n",
              "    [theme=dark] .colab-df-convert:hover {\n",
              "      background-color: #434B5C;\n",
              "      box-shadow: 0px 1px 3px 1px rgba(0, 0, 0, 0.15);\n",
              "      filter: drop-shadow(0px 1px 2px rgba(0, 0, 0, 0.3));\n",
              "      fill: #FFFFFF;\n",
              "    }\n",
              "  </style>\n",
              "\n",
              "      <script>\n",
              "        const buttonEl =\n",
              "          document.querySelector('#df-5d3309c8-8c6f-46cf-857b-78274c561a2d button.colab-df-convert');\n",
              "        buttonEl.style.display =\n",
              "          google.colab.kernel.accessAllowed ? 'block' : 'none';\n",
              "\n",
              "        async function convertToInteractive(key) {\n",
              "          const element = document.querySelector('#df-5d3309c8-8c6f-46cf-857b-78274c561a2d');\n",
              "          const dataTable =\n",
              "            await google.colab.kernel.invokeFunction('convertToInteractive',\n",
              "                                                     [key], {});\n",
              "          if (!dataTable) return;\n",
              "\n",
              "          const docLinkHtml = 'Like what you see? Visit the ' +\n",
              "            '<a target=\"_blank\" href=https://colab.research.google.com/notebooks/data_table.ipynb>data table notebook</a>'\n",
              "            + ' to learn more about interactive tables.';\n",
              "          element.innerHTML = '';\n",
              "          dataTable['output_type'] = 'display_data';\n",
              "          await google.colab.output.renderOutput(dataTable, element);\n",
              "          const docLink = document.createElement('div');\n",
              "          docLink.innerHTML = docLinkHtml;\n",
              "          element.appendChild(docLink);\n",
              "        }\n",
              "      </script>\n",
              "    </div>\n",
              "  </div>\n",
              "  "
            ]
          },
          "metadata": {},
          "execution_count": 36
        }
      ]
    },
    {
      "cell_type": "markdown",
      "source": [
        "### Possible Columns are:\n",
        "\n",
        "['wiki_ID', 'freebase_ID', 'title_x', 'date', 'revenue', 'runtime_x',\n",
        "       'language_x', 'country_x', 'genres', 'match_title', 'imdbId',\n",
        "       'Imdb Link', 'Title', 'IMDB Score', 'Genre', 'Poster', 'plot_x',\n",
        "       'Unnamed: 0.1', 'year', 'imdb', 'title_y', 'test', 'clean_test',\n",
        "       'binary', 'budget', 'domgross', 'intgross', 'code', 'budget_2013',\n",
        "       'domgross_2013', 'intgross_2013', 'period_code', 'decade_code',\n",
        "       'imdb_id', 'plot_y', 'rated', 'response', 'language_y', 'country_y',\n",
        "       'writer', 'metascore', 'imdb_rating', 'director', 'released', 'actors',\n",
        "       'genre', 'awards', 'runtime_y', 'type', 'poster', 'imdb_votes',\n",
        "       'error']"
      ],
      "metadata": {
        "id": "1pKwFdth86-b"
      }
    },
    {
      "cell_type": "code",
      "source": [
        "bechdel_pass = bechdel_movies[bechdel_movies['binary'] == 'PASS'].reset_index()\n",
        "bechdel_fail = bechdel_movies[bechdel_movies['binary'] == 'FAIL'].reset_index()\n",
        "print(len(bechdel_pass), 'movies pass the bechdel test and', len(bechdel_fail), 'fail')"
      ],
      "metadata": {
        "colab": {
          "base_uri": "https://localhost:8080/"
        },
        "id": "PZddPi_KMwHr",
        "outputId": "2b362abd-f099-4f11-a8ee-f3c3731ca25c"
      },
      "execution_count": null,
      "outputs": [
        {
          "output_type": "stream",
          "name": "stdout",
          "text": [
            "892 movies pass the bechdel test and 1086 fail\n"
          ]
        }
      ]
    },
    {
      "cell_type": "code",
      "source": [
        "bechdel_movies.columns"
      ],
      "metadata": {
        "colab": {
          "base_uri": "https://localhost:8080/"
        },
        "id": "G7U4vs21gafh",
        "outputId": "33632c4f-78b0-4afe-a867-12478bb7e755"
      },
      "execution_count": null,
      "outputs": [
        {
          "output_type": "execute_result",
          "data": {
            "text/plain": [
              "Index(['wiki_ID', 'freebase_ID', 'title_x', 'date', 'revenue', 'genres',\n",
              "       'match_title', 'Title', 'IMDB Score', 'Genre', 'plot_x', 'year',\n",
              "       'title_y', 'binary', 'budget', 'domgross', 'intgross', 'budget_2013',\n",
              "       'domgross_2013', 'intgross_2013', 'imdb_id', 'plot_y', 'writer',\n",
              "       'imdb_rating', 'director', 'released', 'actors', 'genre'],\n",
              "      dtype='object')"
            ]
          },
          "metadata": {},
          "execution_count": 113
        }
      ]
    },
    {
      "cell_type": "code",
      "source": [
        "#bechdel_pass.to_csv('bechdel_pass.csv')\n",
        "#bechdel_fail.to_csv('bechdel_fail.csv')"
      ],
      "metadata": {
        "id": "A2AClbDBNwVg"
      },
      "execution_count": null,
      "outputs": []
    },
    {
      "cell_type": "code",
      "source": [
        "names_df = pd.read_csv('name_gender.csv', index_col=0, usecols=['name', 'gender', 'highest_rank'])"
      ],
      "metadata": {
        "id": "SdknN_yYO1j4"
      },
      "execution_count": null,
      "outputs": []
    },
    {
      "cell_type": "code",
      "source": [
        "names_dict = names_df.to_dict('index')"
      ],
      "metadata": {
        "id": "yxgJ9BTDO7Iy"
      },
      "execution_count": null,
      "outputs": []
    },
    {
      "cell_type": "code",
      "source": [
        "def determine_gender(full_name, names_dict):\n",
        "  if full_name.split()[0] in names_dict.keys():\n",
        "    return names_dict[full_name.split()[0]]['gender']\n",
        "  elif len(full_name.split()) > 1:\n",
        "    if full_name.split()[1] in names_dict.keys():\n",
        "      return names_dict[full_name.split()[1]]['gender']\n",
        "  else:\n",
        "    return 'undetermined'"
      ],
      "metadata": {
        "id": "a_GcebI3P4TB"
      },
      "execution_count": null,
      "outputs": []
    },
    {
      "cell_type": "code",
      "source": [
        "def count_gender_match(gender, str_actors, names_dict):\n",
        "  count = 0\n",
        "  if type(str_actors) == str:\n",
        "    #print('considering: ', str_actors)\n",
        "    list_actors = str_actors.split(',')\n",
        "    for actor in list_actors:\n",
        "      if determine_gender(actor, names_dict) == gender:\n",
        "        count += 1\n",
        "  return count\n"
      ],
      "metadata": {
        "id": "JNEydPD7RMd3"
      },
      "execution_count": null,
      "outputs": []
    },
    {
      "cell_type": "code",
      "source": [
        "def calc_gender_ratio(movie_title, list_actors, names_dict):\n",
        "  counts = {'F': 0, 'M': 0, 'undetermined': 0}\n",
        "  for actor in list_actors:\n",
        "    counts[determine_gender(actor, names_dict)] += 1\n",
        "  print(movie_title, 'has', counts['F'], 'female characters and', counts['M'], 'male characters')\n",
        "  return counts\n"
      ],
      "metadata": {
        "id": "zPHosyL-OT9G"
      },
      "execution_count": null,
      "outputs": []
    },
    {
      "cell_type": "code",
      "source": [
        "bechdel_pass['count_female_actors'] = bechdel_pass['actors'].apply(lambda x: count_gender_match('F', x, names_dict))\n",
        "bechdel_pass['count_male_actors'] = bechdel_pass['actors'].apply(lambda x: count_gender_match('M', x, names_dict))\n",
        "bechdel_fail['count_female_actors'] = bechdel_fail['actors'].apply(lambda x: count_gender_match('F', x, names_dict))\n",
        "bechdel_fail['count_male_actors'] = bechdel_fail['actors'].apply(lambda x: count_gender_match('M', x, names_dict))"
      ],
      "metadata": {
        "id": "LQqjnwphRrcR"
      },
      "execution_count": null,
      "outputs": []
    },
    {
      "cell_type": "code",
      "source": [
        "print('of movies passing the bechdel test, the mean number of female actors is:', bechdel_pass['count_female_actors'].mean())\n",
        "print('of movies passing the bechdel test, the mean number of male actors is:', bechdel_pass['count_male_actors'].mean())\n",
        "print('of movies failing the bechdel test, the mean number of female actors is:', bechdel_fail['count_female_actors'].mean())\n",
        "print('of movies failing the bechdel test, the mean number of male actors is:', bechdel_fail['count_male_actors'].mean())"
      ],
      "metadata": {
        "colab": {
          "base_uri": "https://localhost:8080/"
        },
        "id": "04sCXrg0TOey",
        "outputId": "82804e51-8737-4657-bc81-ec9fe0e6efc6"
      },
      "execution_count": null,
      "outputs": [
        {
          "output_type": "stream",
          "name": "stdout",
          "text": [
            "of movies passing the bechdel test, the mean number of female actors is: 1.7455156950672646\n",
            "of movies passing the bechdel test, the mean number of male actors is: 1.7589686098654709\n",
            "of movies failing the bechdel test, the mean number of female actors is: 1.2384898710865562\n",
            "of movies failing the bechdel test, the mean number of male actors is: 2.31767955801105\n"
          ]
        }
      ]
    },
    {
      "cell_type": "code",
      "source": [
        "calc_gender_ratio('movie_title', ['Sandra Bullock', 'Jeremy Northam', 'Dennis Miller', 'Diane Baker'], names_dict)"
      ],
      "metadata": {
        "colab": {
          "base_uri": "https://localhost:8080/"
        },
        "id": "-l_gSdoIQuOQ",
        "outputId": "73f827f1-c6dd-404b-bc32-6b0ec251b55f"
      },
      "execution_count": null,
      "outputs": [
        {
          "output_type": "stream",
          "name": "stdout",
          "text": [
            "movie_title has 2 female characters and 2 male characters\n"
          ]
        },
        {
          "output_type": "execute_result",
          "data": {
            "text/plain": [
              "{'F': 2, 'M': 2, 'undetermined': 0}"
            ]
          },
          "metadata": {},
          "execution_count": 70
        }
      ]
    },
    {
      "cell_type": "code",
      "source": [
        "for i in range(10):\n",
        "  if type(bechdel_pass['actors'][i]) == str:\n",
        "    print(bechdel_pass['actors'][i].split(','))"
      ],
      "metadata": {
        "colab": {
          "base_uri": "https://localhost:8080/"
        },
        "id": "COdwhDP4g4Db",
        "outputId": "6b2614eb-7598-42de-a966-d60f00282c04"
      },
      "execution_count": null,
      "outputs": [
        {
          "output_type": "stream",
          "name": "stdout",
          "text": [
            "['Derek Jacobi', ' Kenneth Branagh', ' Simon Shepherd', ' James Larkin']\n",
            "['Derek Jacobi', ' Kenneth Branagh', ' Simon Shepherd', ' James Larkin']\n",
            "['Sandra Bullock', ' Jeremy Northam', ' Dennis Miller', ' Diane Baker']\n",
            "['Sandra Bullock', ' Jeremy Northam', ' Dennis Miller', ' Diane Baker']\n",
            "['James Marsden', ' Kate Bosworth', ' Alexander Skarsgård', ' James Woods']\n",
            "['James Marsden', ' Kate Bosworth', ' Alexander Skarsgård', ' James Woods']\n",
            "['John Travolta', ' Olivia Newton-John', ' Stockard Channing', ' Jeff Conaway']\n",
            "['Anne Hathaway', ' James McAvoy', ' Julie Walters', ' James Cromwell']\n",
            "['Meryl Streep', ' Jim Broadbent', ' Susan Brown', ' Alice da Cunha']\n"
          ]
        }
      ]
    }
  ]
}